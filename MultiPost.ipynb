{
 "cells": [
  {
   "cell_type": "code",
   "execution_count": 1,
   "id": "b2b6b73d-d2bc-449b-ae37-5737f19c1f59",
   "metadata": {},
   "outputs": [],
   "source": [
    "# Import necessary libraries\n",
    "import numpy as np\n",
    "import pandas as pd\n",
    "import seaborn as sns\n",
    "from pylab import rcParams\n",
    "import matplotlib.pyplot as plt\n",
    "from matplotlib import rc\n",
    "from sklearn.model_selection import train_test_split\n",
    "from sklearn.metrics import confusion_matrix, classification_report\n",
    "from collections import defaultdict\n",
    "from textwrap import wrap\n",
    "\n",
    "# Torch ML libraries\n",
    "import transformers\n",
    "from transformers import BertModel, BertTokenizer, AdamW, get_linear_schedule_with_warmup\n",
    "import torch\n",
    "from torch import nn, optim\n",
    "from torch.utils.data import Dataset, DataLoader\n",
    "from torch.optim.lr_scheduler import OneCycleLR\n",
    "\n",
    "# Misc.\n",
    "import warnings\n",
    "warnings.filterwarnings('ignore')\n",
    "\n",
    "#Set important constants\n",
    "max_len = 512 # max number of tokens from each tweet"
   ]
  },
  {
   "cell_type": "code",
   "execution_count": 2,
   "id": "563c271b-3dcc-490f-9278-5f84d1295802",
   "metadata": {},
   "outputs": [],
   "source": [
    "torch.multiprocessing.set_start_method('spawn')\n",
    "# Set intial variables and constants\n",
    "%config InlineBackend.figure_format='retina'\n",
    "\n",
    "# Graph Designs\n",
    "sns.set(style='whitegrid', palette='muted', font_scale=1.2)\n",
    "HAPPY_COLORS_PALETTE = [\"#01BEFE\", \"#FFDD00\", \"#FF7D00\", \"#FF006D\", \"#ADFF02\", \"#8F00FF\"]\n",
    "sns.set_palette(sns.color_palette(HAPPY_COLORS_PALETTE))\n",
    "rcParams['figure.figsize'] = 12, 8\n",
    "\n",
    "# Random seed for reproducibilty\n",
    "RANDOM_SEED = 42\n",
    "np.random.seed(RANDOM_SEED)\n",
    "torch.manual_seed(RANDOM_SEED)\n",
    "torch.cuda.empty_cache()\n",
    "\n",
    "# Set GPU\n",
    "device = torch.device(\"cuda\" if torch.cuda.is_available() else \"cpu\")"
   ]
  },
  {
   "cell_type": "code",
   "execution_count": 5,
   "id": "66cb226a-f728-4134-a17e-18cd89f9eb41",
   "metadata": {},
   "outputs": [],
   "source": [
    "data = pd.read_csv(\"bigbig1000.csv\", on_bad_lines='skip')\n",
    "\n",
    "data.drop(['Unnamed: 0','created_utc','score'], axis=1,inplace=True)\n",
    "\n",
    "ds = pd.read_csv(\"bignegative.csv\", on_bad_lines='skip')\n",
    "\n",
    "data.drop_duplicates(inplace=True)\n",
    "\n",
    "ds.drop(['Unnamed: 0','created_utc','score'], axis=1,inplace=True)\n",
    "\n",
    "ds.drop_duplicates(inplace=True)\n",
    "\n",
    "ds = ds[ds['author'] != 'AutoModerator']\n",
    "ds = ds[~ds['author'].isin(ds[(ds['subreddit']=='Anxiety') | (ds['subreddit'] == 'depression')]['author'].unique())]\n",
    "\n",
    "data['label'] = 1\n",
    "ds['label'] = 0\n",
    "\n",
    "ds= ds[0:len(data)]\n",
    "\n",
    "df = pd.concat([data,ds])"
   ]
  },
  {
   "cell_type": "code",
   "execution_count": 6,
   "id": "88205ad7-8d98-4efb-bfd2-4bccaa0bf6e9",
   "metadata": {},
   "outputs": [
    {
     "data": {
      "text/html": [
       "<div>\n",
       "<style scoped>\n",
       "    .dataframe tbody tr th:only-of-type {\n",
       "        vertical-align: middle;\n",
       "    }\n",
       "\n",
       "    .dataframe tbody tr th {\n",
       "        vertical-align: top;\n",
       "    }\n",
       "\n",
       "    .dataframe thead th {\n",
       "        text-align: right;\n",
       "    }\n",
       "</style>\n",
       "<table border=\"1\" class=\"dataframe\">\n",
       "  <thead>\n",
       "    <tr style=\"text-align: right;\">\n",
       "      <th></th>\n",
       "      <th>author</th>\n",
       "      <th>selftext</th>\n",
       "      <th>title</th>\n",
       "      <th>is_submitter</th>\n",
       "      <th>subreddit</th>\n",
       "      <th>label</th>\n",
       "    </tr>\n",
       "  </thead>\n",
       "  <tbody>\n",
       "    <tr>\n",
       "      <th>0</th>\n",
       "      <td>Flat_Mission_2375</td>\n",
       "      <td>I go through what i call cycles where I feel l...</td>\n",
       "      <td>I feel alone</td>\n",
       "      <td>True</td>\n",
       "      <td>Anxiety</td>\n",
       "      <td>1</td>\n",
       "    </tr>\n",
       "    <tr>\n",
       "      <th>1</th>\n",
       "      <td>Flat_Mission_2375</td>\n",
       "      <td>I am really proud of you!</td>\n",
       "      <td>Finally showered</td>\n",
       "      <td>False</td>\n",
       "      <td>OCD</td>\n",
       "      <td>1</td>\n",
       "    </tr>\n",
       "    <tr>\n",
       "      <th>2</th>\n",
       "      <td>Flat_Mission_2375</td>\n",
       "      <td>The situation is sad because it was 10 years o...</td>\n",
       "      <td>Simran</td>\n",
       "      <td>False</td>\n",
       "      <td>SweetBobbyPodcast</td>\n",
       "      <td>1</td>\n",
       "    </tr>\n",
       "    <tr>\n",
       "      <th>3</th>\n",
       "      <td>Flat_Mission_2375</td>\n",
       "      <td>Agreed!</td>\n",
       "      <td>What would you do ?</td>\n",
       "      <td>False</td>\n",
       "      <td>SweetBobbyPodcast</td>\n",
       "      <td>1</td>\n",
       "    </tr>\n",
       "    <tr>\n",
       "      <th>4</th>\n",
       "      <td>Flat_Mission_2375</td>\n",
       "      <td>I’m trying 4 weeks right now…it’s been 2 days ...</td>\n",
       "      <td>How long are your tolerance breaks?</td>\n",
       "      <td>False</td>\n",
       "      <td>trees</td>\n",
       "      <td>1</td>\n",
       "    </tr>\n",
       "    <tr>\n",
       "      <th>...</th>\n",
       "      <td>...</td>\n",
       "      <td>...</td>\n",
       "      <td>...</td>\n",
       "      <td>...</td>\n",
       "      <td>...</td>\n",
       "      <td>...</td>\n",
       "    </tr>\n",
       "    <tr>\n",
       "      <th>23227</th>\n",
       "      <td>Leather-Ad8111</td>\n",
       "      <td>wait this is really scary 😭😭</td>\n",
       "      <td>ISAIAH HUMS DURING THOROUGHFARE??</td>\n",
       "      <td>False</td>\n",
       "      <td>Ethelcain</td>\n",
       "      <td>0</td>\n",
       "    </tr>\n",
       "    <tr>\n",
       "      <th>23228</th>\n",
       "      <td>Leather-Ad8111</td>\n",
       "      <td>😭😭😭</td>\n",
       "      <td>her hair</td>\n",
       "      <td>False</td>\n",
       "      <td>Ethelcain</td>\n",
       "      <td>0</td>\n",
       "    </tr>\n",
       "    <tr>\n",
       "      <th>23229</th>\n",
       "      <td>Leather-Ad8111</td>\n",
       "      <td>😭😭😭</td>\n",
       "      <td>Strangers- Wii sports</td>\n",
       "      <td>True</td>\n",
       "      <td>Ethelcain</td>\n",
       "      <td>0</td>\n",
       "    </tr>\n",
       "    <tr>\n",
       "      <th>23230</th>\n",
       "      <td>Leather-Ad8111</td>\n",
       "      <td>THANK YOU SO MUCH!!</td>\n",
       "      <td>Strangers- Wii sports</td>\n",
       "      <td>True</td>\n",
       "      <td>Ethelcain</td>\n",
       "      <td>0</td>\n",
       "    </tr>\n",
       "    <tr>\n",
       "      <th>23231</th>\n",
       "      <td>Leather-Ad8111</td>\n",
       "      <td>nah you’re good thank you though</td>\n",
       "      <td>Strangers- Wii sports</td>\n",
       "      <td>True</td>\n",
       "      <td>Ethelcain</td>\n",
       "      <td>0</td>\n",
       "    </tr>\n",
       "  </tbody>\n",
       "</table>\n",
       "<p>32894 rows × 6 columns</p>\n",
       "</div>"
      ],
      "text/plain": [
       "                  author                                           selftext  \\\n",
       "0      Flat_Mission_2375  I go through what i call cycles where I feel l...   \n",
       "1      Flat_Mission_2375                          I am really proud of you!   \n",
       "2      Flat_Mission_2375  The situation is sad because it was 10 years o...   \n",
       "3      Flat_Mission_2375                                            Agreed!   \n",
       "4      Flat_Mission_2375  I’m trying 4 weeks right now…it’s been 2 days ...   \n",
       "...                  ...                                                ...   \n",
       "23227     Leather-Ad8111                       wait this is really scary 😭😭   \n",
       "23228     Leather-Ad8111                                                😭😭😭   \n",
       "23229     Leather-Ad8111                                                😭😭😭   \n",
       "23230     Leather-Ad8111                                THANK YOU SO MUCH!!   \n",
       "23231     Leather-Ad8111                   nah you’re good thank you though   \n",
       "\n",
       "                                     title  is_submitter          subreddit  \\\n",
       "0                            I feel alone           True            Anxiety   \n",
       "1                         Finally showered         False                OCD   \n",
       "2                                   Simran         False  SweetBobbyPodcast   \n",
       "3                     What would you do ?          False  SweetBobbyPodcast   \n",
       "4      How long are your tolerance breaks?         False              trees   \n",
       "...                                    ...           ...                ...   \n",
       "23227    ISAIAH HUMS DURING THOROUGHFARE??         False          Ethelcain   \n",
       "23228                             her hair         False          Ethelcain   \n",
       "23229               Strangers- Wii sports           True          Ethelcain   \n",
       "23230               Strangers- Wii sports           True          Ethelcain   \n",
       "23231               Strangers- Wii sports           True          Ethelcain   \n",
       "\n",
       "       label  \n",
       "0          1  \n",
       "1          1  \n",
       "2          1  \n",
       "3          1  \n",
       "4          1  \n",
       "...      ...  \n",
       "23227      0  \n",
       "23228      0  \n",
       "23229      0  \n",
       "23230      0  \n",
       "23231      0  \n",
       "\n",
       "[32894 rows x 6 columns]"
      ]
     },
     "execution_count": 6,
     "metadata": {},
     "output_type": "execute_result"
    }
   ],
   "source": [
    "df"
   ]
  },
  {
   "cell_type": "code",
   "execution_count": 10,
   "id": "e45a3190-2482-44af-b8db-8034e5ff5cac",
   "metadata": {},
   "outputs": [
    {
     "data": {
      "application/vnd.jupyter.widget-view+json": {
       "model_id": "829040709f5b424d9f10c9de930677a4",
       "version_major": 2,
       "version_minor": 0
      },
      "text/plain": [
       "vocab.txt:   0%|          | 0.00/232k [00:00<?, ?B/s]"
      ]
     },
     "metadata": {},
     "output_type": "display_data"
    }
   ],
   "source": [
    "class_names = ['not anxious', 'anxious']\n",
    "\n",
    "# Set the model name\n",
    "model_name = 'prajjwal1/bert-tiny'\n",
    "\n",
    "# Build a BERT based tokenizer\n",
    "tokenizer = BertTokenizer.from_pretrained(model_name, force_download=True)\n",
    "\n"
   ]
  },
  {
   "cell_type": "code",
   "execution_count": 6,
   "id": "5b881548-b68c-4ebb-b5c3-3043bbf5eaa8",
   "metadata": {},
   "outputs": [],
   "source": [
    "#train test split\n",
    "df_train, df_test = train_test_split(df, test_size=0.2, random_state=RANDOM_SEED)\n",
    "df_val, df_test = train_test_split(df_test, test_size=0.5, random_state=RANDOM_SEED)\n",
    "\n",
    "batch_size = 16\n",
    "\n",
    "# row # must be multiple of batch_size\n",
    "df_train = df_train[:(len(df_train) // batch_size) * batch_size]\n",
    "df_val = df_val[:(len(df_val) // batch_size) * batch_size]\n",
    "df_test = df_test[:(len(df_test) // batch_size) * batch_size]"
   ]
  },
  {
   "cell_type": "code",
   "execution_count": 7,
   "id": "5341e9cf-15d6-46ac-be76-a1fdbdda31fc",
   "metadata": {},
   "outputs": [],
   "source": [
    "from Dataset import TextDataset\n",
    "\n",
    "\n",
    "#creates the dataloader which is used to tokenize and order the data for training\n",
    "def create_data_loader(df, tokenizer, max_len, batch_size):\n",
    "    ds = TextDataset(\n",
    "        reviews=df.text.to_numpy(),\n",
    "        targets=df.label.to_numpy(),\n",
    "        tokenizer=tokenizer,\n",
    "        max_len=max_len\n",
    "    )\n",
    "\n",
    "    return DataLoader(\n",
    "        ds,\n",
    "        batch_size=batch_size,\n",
    "        num_workers=8\n",
    "    )"
   ]
  },
  {
   "cell_type": "code",
   "execution_count": 8,
   "id": "983ec9ef-8898-472f-8fe6-7cd0739f8cbd",
   "metadata": {},
   "outputs": [],
   "source": [
    "train_data_loader = create_data_loader(df_train, tokenizer, max_len, batch_size)\n",
    "val_data_loader = create_data_loader(df_val, tokenizer, max_len, batch_size)\n",
    "test_data_loader = create_data_loader(df_test, tokenizer, max_len, batch_size)\n",
    "\n",
    "#create dataloader for each dataframe"
   ]
  },
  {
   "cell_type": "code",
   "execution_count": 9,
   "id": "0ce8088d-b6b4-4b6d-973f-b00b2901bf96",
   "metadata": {},
   "outputs": [],
   "source": [
    "# Build the Sentiment Classifier class\n",
    "class SentimentClassifier(nn.Module):\n",
    "\n",
    "    # Constructor class\n",
    "    def __init__(self, n_classes):\n",
    "        super(SentimentClassifier, self).__init__()\n",
    "        self.bert = BertModel.from_pretrained(model_name)\n",
    "        self.drop = nn.Dropout(p=0.3)\n",
    "        self.out = nn.Linear(self.bert.config.hidden_size, 1)\n",
    "\n",
    "    # Forward propagaion class\n",
    "    def forward(self, input_ids, attention_mask):\n",
    "        _, pooled_output = self.bert(\n",
    "          input_ids=input_ids,\n",
    "          attention_mask=attention_mask,\n",
    "          return_dict=False\n",
    "        )\n",
    "        #  Add a dropout layer\n",
    "        output = self.drop(pooled_output)\n",
    "        return torch.sigmoid(self.out(output))"
   ]
  },
  {
   "cell_type": "code",
   "execution_count": 10,
   "id": "a48ce277-b6b9-4294-a858-57d90f646713",
   "metadata": {},
   "outputs": [],
   "source": [
    "# Instantiate the model and move to classifier\n",
    "model = SentimentClassifier(len(class_names))\n",
    "model = model.to(device)"
   ]
  },
  {
   "cell_type": "code",
   "execution_count": 11,
   "id": "4a8033e5-93a0-4816-993c-daf1ce119aa6",
   "metadata": {},
   "outputs": [
    {
     "data": {
      "text/plain": [
       "SentimentClassifier(\n",
       "  (bert): BertModel(\n",
       "    (embeddings): BertEmbeddings(\n",
       "      (word_embeddings): Embedding(30522, 128, padding_idx=0)\n",
       "      (position_embeddings): Embedding(512, 128)\n",
       "      (token_type_embeddings): Embedding(2, 128)\n",
       "      (LayerNorm): LayerNorm((128,), eps=1e-12, elementwise_affine=True)\n",
       "      (dropout): Dropout(p=0.1, inplace=False)\n",
       "    )\n",
       "    (encoder): BertEncoder(\n",
       "      (layer): ModuleList(\n",
       "        (0-1): 2 x BertLayer(\n",
       "          (attention): BertAttention(\n",
       "            (self): BertSdpaSelfAttention(\n",
       "              (query): Linear(in_features=128, out_features=128, bias=True)\n",
       "              (key): Linear(in_features=128, out_features=128, bias=True)\n",
       "              (value): Linear(in_features=128, out_features=128, bias=True)\n",
       "              (dropout): Dropout(p=0.1, inplace=False)\n",
       "            )\n",
       "            (output): BertSelfOutput(\n",
       "              (dense): Linear(in_features=128, out_features=128, bias=True)\n",
       "              (LayerNorm): LayerNorm((128,), eps=1e-12, elementwise_affine=True)\n",
       "              (dropout): Dropout(p=0.1, inplace=False)\n",
       "            )\n",
       "          )\n",
       "          (intermediate): BertIntermediate(\n",
       "            (dense): Linear(in_features=128, out_features=512, bias=True)\n",
       "            (intermediate_act_fn): GELUActivation()\n",
       "          )\n",
       "          (output): BertOutput(\n",
       "            (dense): Linear(in_features=512, out_features=128, bias=True)\n",
       "            (LayerNorm): LayerNorm((128,), eps=1e-12, elementwise_affine=True)\n",
       "            (dropout): Dropout(p=0.1, inplace=False)\n",
       "          )\n",
       "        )\n",
       "      )\n",
       "    )\n",
       "    (pooler): BertPooler(\n",
       "      (dense): Linear(in_features=128, out_features=128, bias=True)\n",
       "      (activation): Tanh()\n",
       "    )\n",
       "  )\n",
       "  (drop): Dropout(p=0.3, inplace=False)\n",
       "  (out): Linear(in_features=128, out_features=1, bias=True)\n",
       ")"
      ]
     },
     "execution_count": 11,
     "metadata": {},
     "output_type": "execute_result"
    }
   ],
   "source": [
    "model"
   ]
  },
  {
   "cell_type": "code",
   "execution_count": 12,
   "id": "254aaa9d-59fe-4d25-868b-00a3eb9fbb06",
   "metadata": {},
   "outputs": [],
   "source": [
    "torch.set_default_device(\"cuda\" if torch.cuda.is_available() else \"cpu\")  # only use cuda for training"
   ]
  },
  {
   "cell_type": "code",
   "execution_count": 13,
   "id": "5ff506a0-ad43-4df4-9886-efa4844d730b",
   "metadata": {},
   "outputs": [],
   "source": [
    "# Number of iterations\n",
    "EPOCHS = 20\n",
    "\n",
    "# Optimizer Adam\n",
    "optimizer = AdamW(model.parameters(), lr=1e-5, correct_bias=False)\n",
    "\n",
    "total_steps = len(train_data_loader) * EPOCHS\n",
    "'''\n",
    "scheduler = get_linear_schedule_with_warmup(\n",
    "    optimizer,\n",
    "    num_warmup_steps=0,\n",
    "    num_training_steps=total_steps\n",
    ")\n",
    "'''\n",
    "scheduler = OneCycleLR(optimizer, max_lr = 1e-4, total_steps = total_steps)\n",
    "# Set the loss function\n",
    "loss_fn = nn.BCELoss().to(device)"
   ]
  },
  {
   "cell_type": "code",
   "execution_count": 14,
   "id": "d5a8ca6e-253f-42db-8a76-35f10ff1b870",
   "metadata": {},
   "outputs": [],
   "source": [
    "# Function for a single training iteration\n",
    "def train_epoch(model, data_loader, loss_fn, optimizer, device, scheduler, n_examples, progress_bar=None):\n",
    "    model = model.train()\n",
    "    losses = []\n",
    "    correct_predictions = 0\n",
    "\n",
    "    for d in data_loader:\n",
    "        input_ids = d[\"input_ids\"].to(device)\n",
    "        attention_mask = d[\"attention_mask\"].to(device)\n",
    "        targets = d[\"targets\"].to(device)\n",
    "\n",
    "        outputs = model(\n",
    "            input_ids=input_ids,\n",
    "            attention_mask=attention_mask,\n",
    "        )\n",
    "        outputs = torch.reshape(outputs, (-1, 1)).float()\n",
    "        targets = torch.reshape(targets, (-1, 1)).float()\n",
    "\n",
    "        loss = loss_fn(outputs, targets)\n",
    "        correct_predictions += torch.sum(outputs.round() == targets)\n",
    "        losses.append(loss.item())\n",
    "\n",
    "        # Backward prop\n",
    "        loss.backward()\n",
    "\n",
    "        # Gradient Descent\n",
    "        nn.utils.clip_grad_norm_(model.parameters(), max_norm=1.0)\n",
    "        optimizer.step()\n",
    "        scheduler.step()\n",
    "        optimizer.zero_grad()\n",
    "        \n",
    "        if progress_bar:\n",
    "            progress_bar.update(1)\n",
    "\n",
    "    return correct_predictions.double() / n_examples, np.mean(losses)\n"
   ]
  },
  {
   "cell_type": "code",
   "execution_count": 15,
   "id": "4a3ad868-e6c5-427c-a8e8-6baea4392add",
   "metadata": {},
   "outputs": [],
   "source": [
    "def eval_model(model, data_loader, loss_fn, device, n_examples, progress_bar=None):\n",
    "    model = model.eval()\n",
    "\n",
    "    losses = []\n",
    "    correct_predictions = 0\n",
    "\n",
    "    with torch.no_grad():\n",
    "        for d in data_loader:\n",
    "            input_ids = d[\"input_ids\"].to(device)\n",
    "            attention_mask = d[\"attention_mask\"].to(device)\n",
    "            targets = d[\"targets\"].to(device)\n",
    "\n",
    "            # Get model ouptuts\n",
    "            outputs = model(\n",
    "                input_ids=input_ids,\n",
    "                attention_mask=attention_mask\n",
    "            )\n",
    "            outputs = torch.round(torch.reshape(outputs, (-1, 1)).float())\n",
    "            targets = torch.reshape(targets, (-1, 1)).float()\n",
    "\n",
    "            loss = loss_fn(outputs, targets)\n",
    "\n",
    "            correct_predictions += torch.sum(outputs == targets)\n",
    "            losses.append(loss.item())\n",
    "\n",
    "            if progress_bar:\n",
    "                progress_bar.update(1)\n",
    "\n",
    "    return correct_predictions.double() / n_examples, np.mean(losses)"
   ]
  },
  {
   "cell_type": "code",
   "execution_count": 17,
   "id": "dd9f3c49-3d5c-4ff6-9f71-22d52993513f",
   "metadata": {
    "scrolled": true
   },
   "outputs": [
    {
     "name": "stdout",
     "output_type": "stream",
     "text": [
      "Epoch 1/20\n",
      "----------\n"
     ]
    },
    {
     "name": "stderr",
     "output_type": "stream",
     "text": [
      "Training: 100%|█████████████████████████████████████████████████████████████████████| 1997/1997 [00:53<00:00, 49.81it/s]"
     ]
    },
    {
     "name": "stdout",
     "output_type": "stream",
     "text": [
      "Train loss 0.027155728343265965 accuracy 0.9939283925888832\n"
     ]
    },
    {
     "name": "stderr",
     "output_type": "stream",
     "text": [
      "Validation: 100%|█████████████████████████████████████████████████████████████████████| 249/249 [01:15<00:00,  3.31it/s]\n",
      "Validation:  96%|█████████████████████████████████████████████████████████████████▌  | 240/249 [00:13<00:00, 127.93it/s]"
     ]
    },
    {
     "name": "stdout",
     "output_type": "stream",
     "text": [
      "Val   loss 0.8032128514056225 accuracy 0.9919678714859437\n",
      "\n",
      "Epoch 2/20\n",
      "----------\n"
     ]
    },
    {
     "name": "stderr",
     "output_type": "stream",
     "text": [
      "Training: 100%|█████████████████████████████████████████████████████████████████████| 1997/1997 [01:09<00:00, 28.77it/s]\n",
      "Training:  48%|█████████████████████████████████▉                                    | 968/1997 [00:32<00:20, 50.54it/s]Process Process-74:\n",
      "Process Process-73:\n",
      "Process Process-75:\n",
      "Process Process-71:\n",
      "Process Process-69:\n",
      "Process Process-72:\n",
      "Process Process-70:\n",
      "Process Process-68:\n",
      "Exception ignored in: <function _MultiProcessingDataLoaderIter.__del__ at 0x7fa28e8cb4c0>\n",
      "Traceback (most recent call last):\n",
      "  File \"/home/kbliu/anaconda3/envs/MyEnv/lib/python3.12/site-packages/torch/utils/data/dataloader.py\", line 1479, in __del__\n",
      "    self._shutdown_workers()\n",
      "  File \"/home/kbliu/anaconda3/envs/MyEnv/lib/python3.12/site-packages/torch/utils/data/dataloader.py\", line 1443, in _shutdown_workers\n",
      "    w.join(timeout=_utils.MP_STATUS_CHECK_INTERVAL)\n",
      "  File \"/home/kbliu/anaconda3/envs/MyEnv/lib/python3.12/multiprocessing/process.py\", line 149, in join\n",
      "    res = self._popen.wait(timeout)\n",
      "          ^^^^^^^^^^^^^^^^^^^^^^^^^\n",
      "  File \"/home/kbliu/anaconda3/envs/MyEnv/lib/python3.12/multiprocessing/popen_fork.py\", line 40, in wait\n",
      "    if not wait([self.sentinel], timeout):\n",
      "           ^^^^^^^^^^^^^^^^^^^^^^^^^^^^^^\n",
      "  File \"/home/kbliu/anaconda3/envs/MyEnv/lib/python3.12/multiprocessing/connection.py\", line 1136, in wait\n",
      "    ready = selector.select(timeout)\n",
      "            ^^^^^^^^^^^^^^^^^^^^^^^^\n",
      "  File \"/home/kbliu/anaconda3/envs/MyEnv/lib/python3.12/selectors.py\", line 415, in select\n",
      "    fd_event_list = self._selector.poll(timeout)\n",
      "                    ^^^^^^^^^^^^^^^^^^^^^^^^^^^^\n",
      "KeyboardInterrupt: \n",
      "Exception ignored in: <function _MultiProcessingDataLoaderIter.__del__ at 0x7fa28e8cb4c0>\n",
      "Traceback (most recent call last):\n",
      "  File \"/home/kbliu/anaconda3/envs/MyEnv/lib/python3.12/site-packages/torch/utils/data/dataloader.py\", line 1479, in __del__\n",
      "    self._shutdown_workers()\n",
      "  File \"/home/kbliu/anaconda3/envs/MyEnv/lib/python3.12/site-packages/torch/utils/data/dataloader.py\", line 1437, in _shutdown_workers\n",
      "    if self._persistent_workers or self._workers_status[worker_id]:\n",
      "                                   ^^^^^^^^^^^^^^^^^^^^\n",
      "AttributeError: '_MultiProcessingDataLoaderIter' object has no attribute '_workers_status'\n",
      "Training:   0%|                                                                                | 0/1997 [01:55<?, ?it/s]\n"
     ]
    },
    {
     "ename": "KeyboardInterrupt",
     "evalue": "",
     "output_type": "error",
     "traceback": [
      "\u001b[0;31m---------------------------------------------------------------------------\u001b[0m",
      "\u001b[0;31mKeyboardInterrupt\u001b[0m                         Traceback (most recent call last)",
      "File \u001b[0;32m<timed exec>:15\u001b[0m\n",
      "Cell \u001b[0;32mIn[14], line 21\u001b[0m, in \u001b[0;36mtrain_epoch\u001b[0;34m(model, data_loader, loss_fn, optimizer, device, scheduler, n_examples, progress_bar)\u001b[0m\n\u001b[1;32m     19\u001b[0m loss \u001b[38;5;241m=\u001b[39m loss_fn(outputs, targets)\n\u001b[1;32m     20\u001b[0m correct_predictions \u001b[38;5;241m+\u001b[39m\u001b[38;5;241m=\u001b[39m torch\u001b[38;5;241m.\u001b[39msum(outputs\u001b[38;5;241m.\u001b[39mround() \u001b[38;5;241m==\u001b[39m targets)\n\u001b[0;32m---> 21\u001b[0m losses\u001b[38;5;241m.\u001b[39mappend(loss\u001b[38;5;241m.\u001b[39mitem())\n\u001b[1;32m     23\u001b[0m \u001b[38;5;66;03m# Backward prop\u001b[39;00m\n\u001b[1;32m     24\u001b[0m loss\u001b[38;5;241m.\u001b[39mbackward()\n",
      "File \u001b[0;32m~/anaconda3/envs/MyEnv/lib/python3.12/site-packages/torch/utils/_device.py:78\u001b[0m, in \u001b[0;36mDeviceContext.__torch_function__\u001b[0;34m(self, func, types, args, kwargs)\u001b[0m\n\u001b[1;32m     76\u001b[0m \u001b[38;5;28;01mif\u001b[39;00m func \u001b[38;5;129;01min\u001b[39;00m _device_constructors() \u001b[38;5;129;01mand\u001b[39;00m kwargs\u001b[38;5;241m.\u001b[39mget(\u001b[38;5;124m'\u001b[39m\u001b[38;5;124mdevice\u001b[39m\u001b[38;5;124m'\u001b[39m) \u001b[38;5;129;01mis\u001b[39;00m \u001b[38;5;28;01mNone\u001b[39;00m:\n\u001b[1;32m     77\u001b[0m     kwargs[\u001b[38;5;124m'\u001b[39m\u001b[38;5;124mdevice\u001b[39m\u001b[38;5;124m'\u001b[39m] \u001b[38;5;241m=\u001b[39m \u001b[38;5;28mself\u001b[39m\u001b[38;5;241m.\u001b[39mdevice\n\u001b[0;32m---> 78\u001b[0m \u001b[38;5;28;01mreturn\u001b[39;00m func(\u001b[38;5;241m*\u001b[39margs, \u001b[38;5;241m*\u001b[39m\u001b[38;5;241m*\u001b[39mkwargs)\n",
      "\u001b[0;31mKeyboardInterrupt\u001b[0m: "
     ]
    }
   ],
   "source": [
    "%%time\n",
    "\n",
    "\n",
    "from tqdm import tqdm\n",
    "\n",
    "history = defaultdict(list)\n",
    "best_accuracy = 0\n",
    "\n",
    "for epoch in range(EPOCHS):\n",
    "\n",
    "    # Show details\n",
    "    print(f\"Epoch {epoch + 1}/{EPOCHS}\")\n",
    "    print(\"-\" * 10)\n",
    "\n",
    "\n",
    "    train_progress_bar = tqdm(total=len(train_data_loader), desc=\"Training\", position=0, leave=True)\n",
    "\n",
    "    train_acc, train_loss = train_epoch(\n",
    "        model,\n",
    "        train_data_loader,\n",
    "        loss_fn,\n",
    "        optimizer,\n",
    "        device,\n",
    "        scheduler,\n",
    "        len(df_train),\n",
    "        train_progress_bar\n",
    "    )\n",
    "\n",
    "    print(f\"Train loss {train_loss} accuracy {train_acc}\")\n",
    "\n",
    "\n",
    "    val_progress_bar = tqdm(total=len(val_data_loader), desc=\"Validation\", position=0, leave=True)\n",
    "\n",
    "    # Get model performance (accuracy and loss)\n",
    "    val_acc, val_loss = eval_model(\n",
    "        model,\n",
    "        val_data_loader,\n",
    "        loss_fn,\n",
    "        device,\n",
    "        len(df_val),\n",
    "        val_progress_bar\n",
    "    )\n",
    "\n",
    "    print(f\"Val   loss {val_loss} accuracy {val_acc}\")\n",
    "    print()\n",
    "\n",
    "    history['train_acc'].append(train_acc)\n",
    "    history['train_loss'].append(train_loss)\n",
    "    history['val_acc'].append(val_acc)\n",
    "    history['val_loss'].append(val_loss)\n",
    "\n",
    "    # If we beat prev performance\n",
    "    if val_acc > best_accuracy:\n",
    "        torch.save(model.state_dict(), 'best_model_state.bin')\n",
    "        best_accuracy = val_acc"
   ]
  },
  {
   "cell_type": "code",
   "execution_count": 14,
   "id": "3d0a0afa-4f52-4ba1-91fb-beb8b17878c6",
   "metadata": {},
   "outputs": [
    {
     "ename": "NameError",
     "evalue": "name 'history' is not defined",
     "output_type": "error",
     "traceback": [
      "\u001b[0;31m---------------------------------------------------------------------------\u001b[0m",
      "\u001b[0;31mNameError\u001b[0m                                 Traceback (most recent call last)",
      "Cell \u001b[0;32mIn[14], line 2\u001b[0m\n\u001b[1;32m      1\u001b[0m \u001b[38;5;66;03m# Plot training and validation accuracy \u001b[39;00m\n\u001b[0;32m----> 2\u001b[0m plt\u001b[38;5;241m.\u001b[39mplot(\u001b[38;5;28mlist\u001b[39m(\u001b[38;5;28mmap\u001b[39m(\u001b[38;5;28;01mlambda\u001b[39;00m x: x\u001b[38;5;241m.\u001b[39mcpu(), history[\u001b[38;5;124m'\u001b[39m\u001b[38;5;124mtrain_acc\u001b[39m\u001b[38;5;124m'\u001b[39m])), label\u001b[38;5;241m=\u001b[39m\u001b[38;5;124m'\u001b[39m\u001b[38;5;124mtrain accuracy\u001b[39m\u001b[38;5;124m'\u001b[39m)\n\u001b[1;32m      3\u001b[0m plt\u001b[38;5;241m.\u001b[39mplot(\u001b[38;5;28mlist\u001b[39m(\u001b[38;5;28mmap\u001b[39m(\u001b[38;5;28;01mlambda\u001b[39;00m x: x\u001b[38;5;241m.\u001b[39mcpu(), history[\u001b[38;5;124m'\u001b[39m\u001b[38;5;124mval_acc\u001b[39m\u001b[38;5;124m'\u001b[39m])), label\u001b[38;5;241m=\u001b[39m\u001b[38;5;124m'\u001b[39m\u001b[38;5;124mvalidation accuracy\u001b[39m\u001b[38;5;124m'\u001b[39m)\n\u001b[1;32m      5\u001b[0m \u001b[38;5;66;03m# Graph chars\u001b[39;00m\n",
      "\u001b[0;31mNameError\u001b[0m: name 'history' is not defined"
     ]
    }
   ],
   "source": [
    "# Plot training and validation accuracy \n",
    "plt.plot(list(map(lambda x: x.cpu(), history['train_acc'])), label='train accuracy')\n",
    "plt.plot(list(map(lambda x: x.cpu(), history['val_acc'])), label='validation accuracy')\n",
    "\n",
    "# Graph chars\n",
    "plt.title('Training history')\n",
    "plt.ylabel('Accuracy')\n",
    "plt.xlabel('Epoch')\n",
    "plt.legend()\n",
    "plt.ylim([0, 1]);"
   ]
  },
  {
   "cell_type": "code",
   "execution_count": 18,
   "id": "c7ce67be-c978-44aa-8a6a-36662088436e",
   "metadata": {},
   "outputs": [
    {
     "data": {
      "text/plain": [
       "0.842741935483871"
      ]
     },
     "execution_count": 18,
     "metadata": {},
     "output_type": "execute_result"
    }
   ],
   "source": [
    "test_acc, _ = eval_model(\n",
    "  model,\n",
    "  test_data_loader,\n",
    "  loss_fn,\n",
    "  device,\n",
    "  len(df_test)\n",
    ")\n",
    "\n",
    "test_acc.item()"
   ]
  },
  {
   "cell_type": "code",
   "execution_count": 18,
   "id": "35176320-1e4f-4cd5-9c5a-d8c8df7f04f6",
   "metadata": {},
   "outputs": [],
   "source": [
    "def get_predictions(model, data_loader):\n",
    "    model = model.eval()\n",
    "\n",
    "    review_texts = []\n",
    "    predictions = []\n",
    "    prediction_probs = []\n",
    "    real_values = []\n",
    "\n",
    "    with torch.no_grad():\n",
    "        for d in data_loader:\n",
    "            texts = d[\"review_text\"]\n",
    "            input_ids = [x.to(device) for x in d[\"input_ids\"]]\n",
    "            attention_mask = [x.to(device) for x in d[\"attention_mask\"]]\n",
    "            targets = d[\"targets\"].to(device)\n",
    "\n",
    "            # Get outouts\n",
    "            outputs = model(\n",
    "                input_ids=input_ids,\n",
    "                attention_mask=attention_mask\n",
    "            )\n",
    "            preds = torch.flatten(outputs.round())\n",
    "\n",
    "            review_texts.extend(texts)\n",
    "            predictions.extend(preds)\n",
    "            prediction_probs.extend(outputs)\n",
    "            real_values.extend(targets)\n",
    "\n",
    "    predictions = torch.stack(predictions).cpu()\n",
    "    prediction_probs = torch.stack(prediction_probs).cpu()\n",
    "    real_values = torch.stack(real_values).cpu()\n",
    "\n",
    "    return review_texts, predictions, prediction_probs, real_values"
   ]
  },
  {
   "cell_type": "code",
   "execution_count": 19,
   "id": "ae499b3f-6f82-4e9c-a334-3b35f15771cb",
   "metadata": {},
   "outputs": [],
   "source": [
    "y_review_texts, y_pred, y_pred_probs, y_test = get_predictions(\n",
    "    model,\n",
    "    test_data_loader\n",
    ")"
   ]
  },
  {
   "cell_type": "code",
   "execution_count": 20,
   "id": "276f5e15-2b11-46b4-8cf1-08694b43693f",
   "metadata": {},
   "outputs": [
    {
     "name": "stdout",
     "output_type": "stream",
     "text": [
      "               precision    recall  f1-score   support\n",
      "\n",
      "not depressed       0.84      0.85      0.85       252\n",
      "    depressed       0.85      0.84      0.84       244\n",
      "\n",
      "     accuracy                           0.84       496\n",
      "    macro avg       0.84      0.84      0.84       496\n",
      " weighted avg       0.84      0.84      0.84       496\n",
      "\n"
     ]
    }
   ],
   "source": [
    "print(classification_report(y_test, y_pred, target_names=class_names))"
   ]
  },
  {
   "cell_type": "code",
   "execution_count": 21,
   "id": "13bbaf55-930a-4c16-8788-d02c39f5e873",
   "metadata": {},
   "outputs": [
    {
     "data": {
      "image/png": "[encoded data removed]",
      "text/plain": [
       "<Figure size 1200x800 with 2 Axes>"
      ]
     },
     "metadata": {
      "image/png": {
       "height": 755,
       "width": 1058
      }
     },
     "output_type": "display_data"
    }
   ],
   "source": [
    "def show_confusion_matrix(confusion_matrix):\n",
    "    hmap = sns.heatmap(confusion_matrix, annot=True, fmt=\"d\", cmap=\"Blues\")\n",
    "    hmap.yaxis.set_ticklabels(hmap.yaxis.get_ticklabels(), rotation=0, ha='right')\n",
    "    hmap.xaxis.set_ticklabels(hmap.xaxis.get_ticklabels(), rotation=30, ha='right')\n",
    "    plt.ylabel('True sentiment')\n",
    "    plt.xlabel('Predicted sentiment');\n",
    "\n",
    "cm = confusion_matrix(y_test, y_pred)\n",
    "df_cm = pd.DataFrame(cm, index=class_names, columns=class_names)\n",
    "show_confusion_matrix(df_cm)"
   ]
  },
  {
   "cell_type": "code",
   "execution_count": 19,
   "id": "4b678271-bdd5-4336-8674-c1538f5d5834",
   "metadata": {},
   "outputs": [],
   "source": [
    "torch.save(model.state_dict(), \"2.pt\")"
   ]
  },
  {
   "cell_type": "code",
   "execution_count": 22,
   "id": "395ec030-ea50-44f5-8937-fe46a8517c56",
   "metadata": {},
   "outputs": [
    {
     "data": {
      "text/plain": [
       "SentimentClassifier(\n",
       "  (bert): BertModel(\n",
       "    (embeddings): BertEmbeddings(\n",
       "      (word_embeddings): Embedding(30522, 128, padding_idx=0)\n",
       "      (position_embeddings): Embedding(512, 128)\n",
       "      (token_type_embeddings): Embedding(2, 128)\n",
       "      (LayerNorm): LayerNorm((128,), eps=1e-12, elementwise_affine=True)\n",
       "      (dropout): Dropout(p=0.1, inplace=False)\n",
       "    )\n",
       "    (encoder): BertEncoder(\n",
       "      (layer): ModuleList(\n",
       "        (0-1): 2 x BertLayer(\n",
       "          (attention): BertAttention(\n",
       "            (self): BertSdpaSelfAttention(\n",
       "              (query): Linear(in_features=128, out_features=128, bias=True)\n",
       "              (key): Linear(in_features=128, out_features=128, bias=True)\n",
       "              (value): Linear(in_features=128, out_features=128, bias=True)\n",
       "              (dropout): Dropout(p=0.1, inplace=False)\n",
       "            )\n",
       "            (output): BertSelfOutput(\n",
       "              (dense): Linear(in_features=128, out_features=128, bias=True)\n",
       "              (LayerNorm): LayerNorm((128,), eps=1e-12, elementwise_affine=True)\n",
       "              (dropout): Dropout(p=0.1, inplace=False)\n",
       "            )\n",
       "          )\n",
       "          (intermediate): BertIntermediate(\n",
       "            (dense): Linear(in_features=128, out_features=512, bias=True)\n",
       "            (intermediate_act_fn): GELUActivation()\n",
       "          )\n",
       "          (output): BertOutput(\n",
       "            (dense): Linear(in_features=512, out_features=128, bias=True)\n",
       "            (LayerNorm): LayerNorm((128,), eps=1e-12, elementwise_affine=True)\n",
       "            (dropout): Dropout(p=0.1, inplace=False)\n",
       "          )\n",
       "        )\n",
       "      )\n",
       "    )\n",
       "    (pooler): BertPooler(\n",
       "      (dense): Linear(in_features=128, out_features=128, bias=True)\n",
       "      (activation): Tanh()\n",
       "    )\n",
       "  )\n",
       "  (drop): Dropout(p=0.3, inplace=False)\n",
       "  (lstm): ModuleList(\n",
       "    (0-5): 6 x LSTM(128, 50, num_layers=6, batch_first=True)\n",
       "  )\n",
       "  (batch): BatchNorm1d(300, eps=1e-05, momentum=0.1, affine=True, track_running_stats=True)\n",
       "  (out): Sequential(\n",
       "    (0): Linear(in_features=300, out_features=1, bias=True)\n",
       "    (1): Sigmoid()\n",
       "  )\n",
       ")"
      ]
     },
     "execution_count": 22,
     "metadata": {},
     "output_type": "execute_result"
    }
   ],
   "source": [
    "m = SentimentClassifier(2)\n",
    "m.load_state_dict(torch.load(\"best_model_state.bin\"))\n",
    "m.eval()"
   ]
  },
  {
   "cell_type": "code",
   "execution_count": 23,
   "id": "0e24dbc9-bb1d-4bb8-aae3-1a9696adf39a",
   "metadata": {},
   "outputs": [
    {
     "data": {
      "text/plain": [
       "0.8608870967741935"
      ]
     },
     "execution_count": 23,
     "metadata": {},
     "output_type": "execute_result"
    }
   ],
   "source": [
    "test_acc, _ = eval_model(\n",
    "  m,\n",
    "  test_data_loader,\n",
    "  loss_fn,\n",
    "  device,\n",
    "  len(df_test)\n",
    ")\n",
    "\n",
    "test_acc.item()"
   ]
  },
  {
   "cell_type": "code",
   "execution_count": 22,
   "id": "bec865d6-93b5-4ed7-a2f5-66821f650ac3",
   "metadata": {},
   "outputs": [],
   "source": [
    "\n",
    "test = torch.load(\"2.pt\", map_location=torch.device('cuda'))"
   ]
  },
  {
   "cell_type": "code",
   "execution_count": 23,
   "id": "c77aaff4-99fb-41c9-a1c9-15cd1bcef818",
   "metadata": {},
   "outputs": [],
   "source": [
    "m = SentimentClassifier(len(class_names))\n",
    "m.load_state_dict(test)\n",
    "m = m.to(device)"
   ]
  },
  {
   "cell_type": "code",
   "execution_count": 24,
   "id": "9d13a0d3-795b-435c-a096-30eb57db4a63",
   "metadata": {},
   "outputs": [
    {
     "data": {
      "text/plain": [
       "0.5080645161290323"
      ]
     },
     "execution_count": 24,
     "metadata": {},
     "output_type": "execute_result"
    }
   ],
   "source": [
    "test_acc, _ = eval_model(\n",
    "  m,\n",
    "  test_data_loader,\n",
    "  loss_fn,\n",
    "  device,\n",
    "  len(df_test)\n",
    ")\n",
    "\n",
    "test_acc.item()"
   ]
  },
  {
   "cell_type": "code",
   "execution_count": 38,
   "id": "1f5383c3-da7b-4231-8e51-89dd5eba08e9",
   "metadata": {},
   "outputs": [
    {
     "name": "stdout",
     "output_type": "stream",
     "text": [
      "Review text: anxiety\n",
      "Sentiment  : 0.999841570854187\n"
     ]
    }
   ],
   "source": [
    "review_text = \"anxiety\"\n",
    "encoded_review = tokenizer.encode_plus(\n",
    "    review_text,\n",
    "    max_length=max_len,\n",
    "    add_special_tokens=True,\n",
    "    return_token_type_ids=False,\n",
    "    pad_to_max_length=True,\n",
    "    return_attention_mask=True,\n",
    "    return_tensors='pt',\n",
    ")\n",
    "input_ids = encoded_review['input_ids'].to(device)\n",
    "attention_mask = encoded_review['attention_mask'].to(device)\n",
    "\n",
    "output = model(input_ids, attention_mask)\n",
    "_, prediction = torch.max(output, dim=1)\n",
    "\n",
    "print(f'Review text: {review_text}')\n",
    "print(f'Sentiment  : {output[0][0]}')"
   ]
  },
  {
   "cell_type": "code",
   "execution_count": 33,
   "id": "05056cc1-5ed4-4b09-afd3-f03a658a86d0",
   "metadata": {},
   "outputs": [
    {
     "data": {
      "text/plain": [
       "\"I can always feel my heartbeat 18M, physically fit\\nI'm just wondering if this is normal or what? I do have anxiety so l feel like that has something to do with it. I constantly feel my heartbeat and l only stop feeling it when I distract myself by doing things such as scratching my leg or clenching my calf. Should l be worried about this? It's more of something that's annoying to deal with during day to day life than anything. No pain or anything but I do sometimes get muscle twitches in the left side of my chest.\\nIf anyone else has/had a similar feeling, how did you deal with it?\\nThanks\""
      ]
     },
     "execution_count": 33,
     "metadata": {},
     "output_type": "execute_result"
    }
   ],
   "source": [
    "df[df['label']==1].iloc[0]['text']"
   ]
  },
  {
   "cell_type": "code",
   "execution_count": null,
   "id": "77027b68-121a-4a74-9eda-d8527b6636fd",
   "metadata": {},
   "outputs": [],
   "source": []
  }
 ],
 "metadata": {
  "kernelspec": {
   "display_name": "MyEnv",
   "language": "python",
   "name": "myenv"
  },
  "language_info": {
   "codemirror_mode": {
    "name": "ipython",
    "version": 3
   },
   "file_extension": ".py",
   "mimetype": "text/x-python",
   "name": "python",
   "nbconvert_exporter": "python",
   "pygments_lexer": "ipython3",
   "version": "3.12.4"
  }
 },
 "nbformat": 4,
 "nbformat_minor": 5
}
