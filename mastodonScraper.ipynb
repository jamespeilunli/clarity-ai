{
 "cells": [
  {
   "cell_type": "code",
   "execution_count": null,
   "metadata": {},
   "outputs": [],
   "source": [
    "#import mastodon.py\n",
    "pip install Mastodon.py"
   ]
  },
  {
   "cell_type": "code",
   "execution_count": null,
   "metadata": {},
   "outputs": [],
   "source": [
    "from mastodon import Mastodon\n",
    "\n",
    "# Uncomment the code below to create your application (run this once)\n",
    "\n",
    "Mastodon.create_app(\n",
    "    'pytooterapp',\n",
    "    api_base_url='https://mastodon.social',\n",
    "    to_file='pytooter_clientcred.secret'\n",
    ")\n",
    "\n",
    "# Uncomment the code below to log in and save the user credentials (run this once)\n",
    "\n",
    "mastodon = Mastodon(client_id='pytooter_clientcred.secret')\n",
    "mastodon.log_in(\n",
    "    'PUT-YOUR-OWN-MASTODON-ACCOUNT',\n",
    "    'supersecurepassword123',\n",
    "    to_file='pytooter_usercred.secret'\n",
    ")\n",
    "\n",
    "\n",
    "# Function to format username\n",
    "def format_username(username):\n",
    "    if not username.startswith('@'):\n",
    "        username = '@' + username\n",
    "    if not username.endswith('@mastodon.social'):\n",
    "        username = username + '@mastodon.social'\n",
    "    return username\n",
    "\n",
    "# Function to fetch recent posts\n",
    "def fetch_recent_posts(username, num_posts=20):\n",
    "    mastodon = Mastodon(access_token='pytooter_usercred.secret')\n",
    "    \n",
    "    # Extract user handle\n",
    "    user_handle = username.strip('@').split('@')[0]\n",
    "    \n",
    "    # Search for the user account\n",
    "    accounts = mastodon.account_search(user_handle)\n",
    "    if not accounts:\n",
    "        print(f\"Error: User {username} not found.\")\n",
    "        return []\n",
    "    \n",
    "    user_id = accounts[0]['id']\n",
    "    \n",
    "    # Fetch recent posts\n",
    "    posts = mastodon.account_statuses(user_id, limit=num_posts)\n",
    "    recent_posts = [post['content'] for post in posts]\n",
    "    \n",
    "    return recent_posts\n",
    "\n",
    "if __name__ == \"__main__\":\n",
    "    username = input(\"Enter the Mastodon username: \")\n",
    "    formatted_username = format_username(username)\n",
    "    posts = fetch_recent_posts(formatted_username)\n",
    "    \n",
    "    if posts:\n",
    "        print(f\"Recent posts from {formatted_username}:\")\n",
    "        for i, post in enumerate(posts, start=1):\n",
    "            print(f\"{i}. {post}\")\n",
    "    else:\n",
    "        print(\"No posts found or unable to retrieve posts.\")\n"
   ]
  },
  {
   "cell_type": "code",
   "execution_count": null,
   "metadata": {},
   "outputs": [],
   "source": []
  }
 ],
 "metadata": {
  "language_info": {
   "name": "python"
  }
 },
 "nbformat": 4,
 "nbformat_minor": 2
}
