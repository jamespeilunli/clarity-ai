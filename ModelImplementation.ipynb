{
 "cells": [
  {
   "cell_type": "code",
   "execution_count": 1,
   "id": "ece0c191-9e2e-4dea-bee3-087b718674e8",
   "metadata": {},
   "outputs": [],
   "source": [
    "# Import necessary libraries\n",
    "import numpy as np\n",
    "import pandas as pd\n",
    "import seaborn as sns\n",
    "from pylab import rcParams\n",
    "import matplotlib.pyplot as plt\n",
    "from matplotlib import rc\n",
    "from sklearn.model_selection import train_test_split\n",
    "from sklearn.metrics import confusion_matrix, classification_report\n",
    "from collections import defaultdict\n",
    "from textwrap import wrap\n",
    "\n",
    "# Torch ML libraries\n",
    "import transformers\n",
    "from transformers import BertModel, BertTokenizer, AdamW, get_linear_schedule_with_warmup\n",
    "import torch\n",
    "from torch import nn, optim\n",
    "from torch.utils.data import Dataset, DataLoader\n",
    "from torch.optim.lr_scheduler import OneCycleLR"
   ]
  },
  {
   "cell_type": "code",
   "execution_count": 2,
   "id": "3bc49d6d-8c3b-4503-8bca-e5e4ca805f62",
   "metadata": {},
   "outputs": [
    {
     "data": {
      "text/plain": [
       "device(type='cuda')"
      ]
     },
     "execution_count": 2,
     "metadata": {},
     "output_type": "execute_result"
    }
   ],
   "source": [
    "# Set intial variables and constants\n",
    "%config InlineBackend.figure_format='retina'\n",
    "\n",
    "# Graph Designs\n",
    "sns.set(style='whitegrid', palette='muted', font_scale=1.2)\n",
    "HAPPY_COLORS_PALETTE = [\"#01BEFE\", \"#FFDD00\", \"#FF7D00\", \"#FF006D\", \"#ADFF02\", \"#8F00FF\"]\n",
    "sns.set_palette(sns.color_palette(HAPPY_COLORS_PALETTE))\n",
    "rcParams['figure.figsize'] = 12, 8\n",
    "\n",
    "# Random seed for reproducibilty\n",
    "RANDOM_SEED = 42\n",
    "np.random.seed(RANDOM_SEED)\n",
    "torch.manual_seed(RANDOM_SEED)\n",
    "torch.cuda.empty_cache()\n",
    "\n",
    "# Set GPU\n",
    "device = torch.device(\"cuda\" if torch.cuda.is_available() else \"cpu\")\n",
    "\n",
    "device"
   ]
  },
  {
   "cell_type": "code",
   "execution_count": 3,
   "id": "73d8dfbc-bba6-4725-9966-42705d9c47f6",
   "metadata": {},
   "outputs": [
    {
     "data": {
      "application/vnd.jupyter.widget-view+json": {
       "model_id": "f8cab68982a042f38293915bcdbb209c",
       "version_major": 2,
       "version_minor": 0
      },
      "text/plain": [
       "vocab.txt:   0%|          | 0.00/232k [00:00<?, ?B/s]"
      ]
     },
     "metadata": {},
     "output_type": "display_data"
    }
   ],
   "source": [
    "# Set the model name\n",
    "model_name = 'prajjwal1/bert-tiny'\n",
    "\n",
    "# Build a BERT based tokenizer\n",
    "tokenizer = BertTokenizer.from_pretrained(model_name, force_download=True)"
   ]
  },
  {
   "cell_type": "code",
   "execution_count": 4,
   "id": "2e92f547-009f-4cf8-8a65-852e918d6693",
   "metadata": {},
   "outputs": [],
   "source": [
    "max_tweets = 50\n",
    "max_len = 100\n",
    "num_lstms = 5\n",
    "batch_size = 1 # this is because its used for so much, and really the input will only be one example so it just makes things easier"
   ]
  },
  {
   "cell_type": "code",
   "execution_count": 110,
   "id": "3570ecef-3e82-4d48-9a22-b6e489e5a308",
   "metadata": {},
   "outputs": [],
   "source": [
    "# Build the Sentiment Classifier class\n",
    "class SentimentClassifier(nn.Module):\n",
    "\n",
    "    # Constructor class\n",
    "    def __init__(self, n_classes):\n",
    "        super(SentimentClassifier, self).__init__()\n",
    "        self.bert = BertModel.from_pretrained(model_name)\n",
    "        self.drop = nn.Dropout(p=0.3)\n",
    "\n",
    "        self.lstm = [nn.LSTM(input_size=128, hidden_size=50, num_layers=5, batch_first=True).to(device) for i in range(num_lstms)]\n",
    "        self.batch = torch.nn.BatchNorm1d(self.lstm[0].hidden_size * num_lstms)\n",
    "        self.out = nn.Sequential(nn.Linear(self.lstm[0].hidden_size*num_lstms, 1), nn.Sigmoid())\n",
    "        \n",
    "\n",
    "    # Forward propagation class\n",
    "    def forward(self, input_ids, attention_mask):\n",
    "        pooled_output = torch.zeros((batch_size, max_tweets, 128), dtype=torch.float32).to(device)\n",
    "        print(input_ids.shape)\n",
    "        for x in range(0 , len(input_ids)):\n",
    "            _, output = self.bert(input_ids=input_ids[x], attention_mask=attention_mask[x], return_dict=False)\n",
    "            output = output.to(device)\n",
    "            pooled_output[:, x].copy_(output)\n",
    "        \n",
    "        pooled_output = pooled_output.view(batch_size, num_lstms, max_tweets//num_lstms, 128)\n",
    "\n",
    "        lstmOut = torch.zeros((batch_size, num_lstms, self.lstm[0].hidden_size), dtype=torch.float32).to(device)\n",
    "        \n",
    "        for i in range(len(self.lstm)):\n",
    "            lstmTempOut, _ = self.lstm[i](pooled_output[:, i, :])\n",
    "            lstmOut[:, i, :] = lstmTempOut[:, -1, :]\n",
    "        lstmOut = self.drop(lstmOut)\n",
    "        lstmOut = lstmOut.view(batch_size, num_lstms*self.lstm[0].hidden_size)\n",
    "        norm = self.batch(lstmOut)\n",
    "        return self.out(norm)"
   ]
  },
  {
   "cell_type": "code",
   "execution_count": 111,
   "id": "451ffb95-d71d-484c-b2d4-a63df7ba72ea",
   "metadata": {},
   "outputs": [
    {
     "name": "stderr",
     "output_type": "stream",
     "text": [
      "/tmp/ipykernel_282991/718773389.py:2: FutureWarning: You are using `torch.load` with `weights_only=False` (the current default value), which uses the default pickle module implicitly. It is possible to construct malicious pickle data which will execute arbitrary code during unpickling (See https://github.com/pytorch/pytorch/blob/main/SECURITY.md#untrusted-models for more details). In a future release, the default value for `weights_only` will be flipped to `True`. This limits the functions that could be executed during unpickling. Arbitrary objects will no longer be allowed to be loaded via this mode unless they are explicitly allowlisted by the user via `torch.serialization.add_safe_globals`. We recommend you start setting `weights_only=True` for any use case where you don't have full control of the loaded file. Please open an issue on GitHub for any issues related to this experimental feature.\n",
      "  model.load_state_dict(torch.load(\"WEBEATTHEPAPER.pt\", map_location=torch.device('cuda')))\n"
     ]
    }
   ],
   "source": [
    "model = SentimentClassifier(len(['not depressed', 'depressed']))\n",
    "model.load_state_dict(torch.load(\"WEBEATTHEPAPER.pt\", map_location=torch.device('cuda')))\n",
    "model = model.to(device)"
   ]
  },
  {
   "cell_type": "code",
   "execution_count": 112,
   "id": "930041e3-be7a-4a6d-a75c-caeb75f64d01",
   "metadata": {},
   "outputs": [],
   "source": [
    "def encodeArray(strArr):\n",
    "    encoding = [\n",
    "            tokenizer.encode_plus(\n",
    "                x,\n",
    "                add_special_tokens=True,\n",
    "                max_length=max_len,\n",
    "                return_token_type_ids=False,\n",
    "                padding = 'max_length',\n",
    "                truncation = True,\n",
    "                return_tensors='pt',\n",
    "            ) for x in strArr\n",
    "        ]\n",
    "\n",
    "    return {\n",
    "        'review_text': strArr,\n",
    "        'input_ids': [x['input_ids'].flatten() for x in encoding],\n",
    "        'attention_mask': [x['attention_mask'].flatten() for x in encoding],\n",
    "\n",
    "    }\n",
    "#print(encodeArray([\"hi\", \"Hey look buddy, I'm a Warhammer player. That means I solve problems, not problems like\"]))"
   ]
  },
  {
   "cell_type": "code",
   "execution_count": 115,
   "id": "766e2284-25e2-42a7-ad5b-4d5454ab42f8",
   "metadata": {},
   "outputs": [],
   "source": [
    "def returnScore(input):\n",
    "    while len(input) < max_tweets:\n",
    "        input.append(\"\")\n",
    "    \n",
    "    d = encodeArray(input)\n",
    "    \n",
    "    input_ids = torch.tensor(np.array([d[\"input_ids\"]])).to(device)\n",
    "    attention_mask = torch.tensor(np.array([d[\"attention_mask\"]])).to(device)\n",
    "    \n",
    "    input = torch.zeros((max_tweets, batch_size, max_len)).to(device)\n",
    "    for x in range(max_tweets):\n",
    "        input[x].copy_(input_ids[:, x])\n",
    "\n",
    "    attention = torch.zeros((max_tweets, batch_size, max_len)).to(device)\n",
    "    for x in range(max_tweets):\n",
    "        attention[x].copy_(attention_mask[:, x])\n",
    "        \n",
    "    model.eval()\n",
    "    return model.forward(input.to(torch.int64), attention.to(torch.int64))"
   ]
  },
  {
   "cell_type": "code",
   "execution_count": 116,
   "id": "0e3f6506-2172-477c-b9ca-87d4bbbd3248",
   "metadata": {},
   "outputs": [
    {
     "name": "stdout",
     "output_type": "stream",
     "text": [
      "torch.Size([50, 1, 100])\n",
      "tensor([[0.4405]], device='cuda:0', grad_fn=<SigmoidBackward0>)\n"
     ]
    }
   ],
   "source": [
    "print(returnScore([\"hi\", \"Hey look buddy, I'm a Warhammer player. That means I solve problems, not problems like\"]))"
   ]
  },
  {
   "cell_type": "code",
   "execution_count": null,
   "id": "b8bd14f0-c6da-48d1-bbcc-9e789fe6e2bb",
   "metadata": {},
   "outputs": [],
   "source": []
  },
  {
   "cell_type": "code",
   "execution_count": null,
   "id": "185aafb9-027e-4d13-8857-aaf41d9f0980",
   "metadata": {},
   "outputs": [],
   "source": []
  }
 ],
 "metadata": {
  "kernelspec": {
   "display_name": "sigma",
   "language": "python",
   "name": "sigma"
  },
  "language_info": {
   "codemirror_mode": {
    "name": "ipython",
    "version": 3
   },
   "file_extension": ".py",
   "mimetype": "text/x-python",
   "name": "python",
   "nbconvert_exporter": "python",
   "pygments_lexer": "ipython3",
   "version": "3.12.4"
  }
 },
 "nbformat": 4,
 "nbformat_minor": 5
}
